{
 "cells": [
  {
   "cell_type": "code",
   "execution_count": null,
   "metadata": {},
   "outputs": [],
   "source": [
    "import yfinance as yahooFinance\n",
    " \n",
    "# Here We are getting Facebook financial information\n",
    "# We need to pass FB as argument for that\n",
    "GetFacebookInformation = yahooFinance.Ticker(\"META\")\n",
    " \n",
    "# whole python dictionary is printed here\n",
    "print(GetFacebookInformation.info)"
   ]
  },
  {
   "cell_type": "code",
   "execution_count": null,
   "metadata": {},
   "outputs": [],
   "source": [
    "\n",
    "\n",
    "\n",
    "\n",
    "import yfinance as yahooFinance\n",
    " \n",
    " \n",
    "GetFacebookInformation = yahooFinance.Ticker(\"META\")\n",
    " \n",
    "# display Company Sector\n",
    "print(\"Company Sector : \", GetFacebookInformation.info['sector'])\n",
    " \n",
    "# display Price Earnings Ratio\n",
    "print(\"Price Earnings Ratio : \", GetFacebookInformation.info['trailingPE'])\n",
    " \n",
    "# display Company Beta\n",
    "print(\" Company Beta : \", GetFacebookInformation.info['beta'])"
   ]
  },
  {
   "cell_type": "code",
   "execution_count": 1,
   "metadata": {},
   "outputs": [
    {
     "name": "stdout",
     "output_type": "stream",
     "text": [
      "                                 Open        High         Low       Close  \\\n",
      "Date                                                                        \n",
      "2024-10-14 00:00:00-04:00  594.219971  600.099976  589.960022  590.419983   \n",
      "\n",
      "                            Volume  Dividends  Stock Splits  \n",
      "Date                                                         \n",
      "2024-10-14 00:00:00-04:00  8238600        0.0           0.0  \n"
     ]
    }
   ],
   "source": [
    "\n",
    "\n",
    "\n",
    "\n",
    "import yfinance as yahooFinance\n",
    " \n",
    "GetFacebookInformation = yahooFinance.Ticker(\"META\")\n",
    " \n",
    "# Let us  get historical stock prices for Facebook \n",
    "# covering the past few years.\n",
    "# max->maximum number of daily prices available \n",
    "# for Facebook.\n",
    "# Valid options are 1d, 5d, 1mo, 3mo, 6mo, 1y, 2y, \n",
    "# 5y, 10y and ytd.\n",
    "print(GetFacebookInformation.history(period=\"1d\"))"
   ]
  },
  {
   "cell_type": "code",
   "execution_count": null,
   "metadata": {},
   "outputs": [],
   "source": [
    "import pandas as pd\n",
    "import yfinance as yahooFinance\n",
    "\n",
    "# Set Pandas display options for better formatting\n",
    "pd.set_option('display.max_columns', None)  # Display all columns\n",
    "pd.set_option('display.expand_frame_repr', False)  # Prevent wrapping in wide DataFrames\n",
    "pd.set_option('display.width', 1000)  # Set display width to a large number\n",
    "\n",
    "GetFacebookInformation = yahooFinance.Ticker(\"META\")\n",
    "\n",
    "# Get historical stock prices for Facebook for the past 1 day\n",
    "print(GetFacebookInformation.history(period=\"1y\"))\n"
   ]
  },
  {
   "cell_type": "code",
   "execution_count": 2,
   "metadata": {},
   "outputs": [
    {
     "name": "stdout",
     "output_type": "stream",
     "text": [
      "                                 Open        High         Low       Close  \\\n",
      "Date                                                                        \n",
      "2019-05-31 00:00:00-04:00  179.738834  179.998048  176.628204  176.937271   \n",
      "2019-06-03 00:00:00-04:00  174.474678  174.524531  160.526668  163.657242   \n",
      "2019-06-04 00:00:00-04:00  163.218576  167.774850  160.357181  166.997192   \n",
      "2019-06-05 00:00:00-04:00  166.977245  168.213528  164.135810  167.665176   \n",
      "2019-06-06 00:00:00-04:00  167.794783  169.190574  166.727988  167.824692   \n",
      "...                               ...         ...         ...         ...   \n",
      "2021-01-25 00:00:00-05:00  277.305091  279.259199  270.694988  277.175476   \n",
      "2021-01-26 00:00:00-05:00  277.305072  284.533309  276.976046  281.203308   \n",
      "2021-01-27 00:00:00-05:00  281.681884  282.599136  267.315138  271.323090   \n",
      "2021-01-28 00:00:00-05:00  276.347928  285.929096  263.905411  264.204498   \n",
      "2021-01-29 00:00:00-05:00  264.503614  265.759841  254.085001  257.554535   \n",
      "\n",
      "                             Volume  Dividends  Stock Splits  \n",
      "Date                                                          \n",
      "2019-05-31 00:00:00-04:00  15226500        0.0           0.0  \n",
      "2019-06-03 00:00:00-04:00  56059600        0.0           0.0  \n",
      "2019-06-04 00:00:00-04:00  46044300        0.0           0.0  \n",
      "2019-06-05 00:00:00-04:00  19758300        0.0           0.0  \n",
      "2019-06-06 00:00:00-04:00  12446400        0.0           0.0  \n",
      "...                             ...        ...           ...  \n",
      "2021-01-25 00:00:00-05:00  19087000        0.0           0.0  \n",
      "2021-01-26 00:00:00-05:00  19373600        0.0           0.0  \n",
      "2021-01-27 00:00:00-05:00  35346200        0.0           0.0  \n",
      "2021-01-28 00:00:00-05:00  37758800        0.0           0.0  \n",
      "2021-01-29 00:00:00-05:00  30389500        0.0           0.0  \n",
      "\n",
      "[421 rows x 7 columns]\n"
     ]
    }
   ],
   "source": [
    "\n",
    "\n",
    "\n",
    "\n",
    "import yfinance as yahooFinance\n",
    " \n",
    "# in order to specify start date and \n",
    "# end date we need datetime package\n",
    "import datetime\n",
    " \n",
    "# startDate , as per our convenience we can modify\n",
    "startDate = datetime.datetime(2019, 5, 31)\n",
    " \n",
    "# endDate , as per our convenience we can modify\n",
    "endDate = datetime.datetime(2021, 1, 30)\n",
    "GetFacebookInformation = yahooFinance.Ticker(\"META\")\n",
    " \n",
    "# pass the parameters as the taken dates for start and end\n",
    "print(GetFacebookInformation.history(start=startDate, \n",
    "                                     end=endDate))"
   ]
  },
  {
   "cell_type": "code",
   "execution_count": null,
   "metadata": {},
   "outputs": [],
   "source": []
  }
 ],
 "metadata": {
  "kernelspec": {
   "display_name": "venv",
   "language": "python",
   "name": "python3"
  },
  "language_info": {
   "codemirror_mode": {
    "name": "ipython",
    "version": 3
   },
   "file_extension": ".py",
   "mimetype": "text/x-python",
   "name": "python",
   "nbconvert_exporter": "python",
   "pygments_lexer": "ipython3",
   "version": "3.12.5"
  }
 },
 "nbformat": 4,
 "nbformat_minor": 2
}
